{
 "cells": [
  {
   "cell_type": "code",
   "execution_count": 1,
   "id": "7360d519-e4ed-4b8a-aa8e-fed2eed2b67c",
   "metadata": {},
   "outputs": [],
   "source": [
    "import pandas as pd\n",
    "import mysql.connector\n",
    "import os\n",
    "\n",
    "# Connect to the MySQL database\n",
    "conn = mysql.connector.connect(\n",
    "    host='localhost',\n",
    "    user='root',\n",
    "    password='464208464208',\n",
    "    database='ecommerce'\n",
    ")\n",
    "cursor = conn.cursor()\n",
    "\n"
   ]
  },
  {
   "cell_type": "code",
   "execution_count": 2,
   "id": "b7f55378-695d-4c6a-a61f-be5075eeea49",
   "metadata": {},
   "outputs": [],
   "source": [
    "import pandas as pd\n",
    "import matplotlib.pyplot as plt\n",
    "import seaborn as sns\n",
    "import mysql.connector\n",
    "import numpy as np"
   ]
  },
  {
   "cell_type": "code",
   "execution_count": 3,
   "id": "6148a2d6-e6c7-480e-9d7b-b44e331de319",
   "metadata": {
    "jupyter": {
     "source_hidden": true
    }
   },
   "outputs": [],
   "source": [
    "db = mysql.connector.connect(host = 'localhost',\n",
    "                            username = 'root',\n",
    "                            password = '464208464208',\n",
    "                            database = 'ecommerce')\n",
    "cur = db.cursor()"
   ]
  },
  {
   "cell_type": "markdown",
   "id": "e62bd33c-7742-43b7-ba28-3fdbc5d34d57",
   "metadata": {},
   "source": [
    "**1. List all unique cities where customers are located.**"
   ]
  },
  {
   "cell_type": "code",
   "execution_count": 5,
   "id": "e3c10ba3-9fe2-4e85-b1b1-48e5f20df5d8",
   "metadata": {
    "jupyter": {
     "source_hidden": true
    }
   },
   "outputs": [
    {
     "data": {
      "text/html": [
       "<div>\n",
       "<style scoped>\n",
       "    .dataframe tbody tr th:only-of-type {\n",
       "        vertical-align: middle;\n",
       "    }\n",
       "\n",
       "    .dataframe tbody tr th {\n",
       "        vertical-align: top;\n",
       "    }\n",
       "\n",
       "    .dataframe thead th {\n",
       "        text-align: right;\n",
       "    }\n",
       "</style>\n",
       "<table border=\"1\" class=\"dataframe\">\n",
       "  <thead>\n",
       "    <tr style=\"text-align: right;\">\n",
       "      <th></th>\n",
       "      <th>City</th>\n",
       "    </tr>\n",
       "  </thead>\n",
       "  <tbody>\n",
       "    <tr>\n",
       "      <th>0</th>\n",
       "      <td>FRANCA</td>\n",
       "    </tr>\n",
       "    <tr>\n",
       "      <th>1</th>\n",
       "      <td>SAO BERNARDO DO CAMPO</td>\n",
       "    </tr>\n",
       "    <tr>\n",
       "      <th>2</th>\n",
       "      <td>SAO PAULO</td>\n",
       "    </tr>\n",
       "    <tr>\n",
       "      <th>3</th>\n",
       "      <td>MOGI DAS CRUZES</td>\n",
       "    </tr>\n",
       "    <tr>\n",
       "      <th>4</th>\n",
       "      <td>CAMPINAS</td>\n",
       "    </tr>\n",
       "    <tr>\n",
       "      <th>...</th>\n",
       "      <td>...</td>\n",
       "    </tr>\n",
       "    <tr>\n",
       "      <th>4114</th>\n",
       "      <td>SIRIJI</td>\n",
       "    </tr>\n",
       "    <tr>\n",
       "      <th>4115</th>\n",
       "      <td>NATIVIDADE DA SERRA</td>\n",
       "    </tr>\n",
       "    <tr>\n",
       "      <th>4116</th>\n",
       "      <td>MONTE BONITO</td>\n",
       "    </tr>\n",
       "    <tr>\n",
       "      <th>4117</th>\n",
       "      <td>SAO RAFAEL</td>\n",
       "    </tr>\n",
       "    <tr>\n",
       "      <th>4118</th>\n",
       "      <td>EUGENIO DE CASTRO</td>\n",
       "    </tr>\n",
       "  </tbody>\n",
       "</table>\n",
       "<p>4119 rows × 1 columns</p>\n",
       "</div>"
      ],
      "text/plain": [
       "                       City\n",
       "0                    FRANCA\n",
       "1     SAO BERNARDO DO CAMPO\n",
       "2                 SAO PAULO\n",
       "3           MOGI DAS CRUZES\n",
       "4                  CAMPINAS\n",
       "...                     ...\n",
       "4114                 SIRIJI\n",
       "4115    NATIVIDADE DA SERRA\n",
       "4116           MONTE BONITO\n",
       "4117             SAO RAFAEL\n",
       "4118      EUGENIO DE CASTRO\n",
       "\n",
       "[4119 rows x 1 columns]"
      ]
     },
     "execution_count": 5,
     "metadata": {},
     "output_type": "execute_result"
    }
   ],
   "source": [
    "query = \"\"\"select distinct upper(customer_city) from customers\"\"\"\n",
    "\n",
    "cur.execute(query)\n",
    "\n",
    "data = cur.fetchall()\n",
    "\n",
    "df = pd.DataFrame(data, columns=['City'])\n",
    "df"
   ]
  },
  {
   "cell_type": "markdown",
   "id": "9dc4b4bd-4752-428c-94f8-2b5edd7df17c",
   "metadata": {},
   "source": [
    "**2. Count the number of orders placed in 2017.**"
   ]
  },
  {
   "cell_type": "code",
   "execution_count": 97,
   "id": "7a5a03bb-6466-45e9-ac6e-883023d9b470",
   "metadata": {
    "jupyter": {
     "source_hidden": true
    }
   },
   "outputs": [
    {
     "data": {
      "text/plain": [
       "('The total numbers of orders in 2017 is', '45,101')"
      ]
     },
     "execution_count": 97,
     "metadata": {},
     "output_type": "execute_result"
    }
   ],
   "source": [
    "query = \"\"\"select FORMAT(count(order_id),0) from orders where year(order_purchase_timestamp) = 2017\"\"\"\n",
    "\n",
    "cur.execute(query)\n",
    "\n",
    "data = cur.fetchall()\n",
    "\n",
    "'The total numbers of orders in 2017 is', data[0][0]"
   ]
  },
  {
   "cell_type": "markdown",
   "id": "c0631fbc-28c6-4e02-8676-5f196aae9ed0",
   "metadata": {},
   "source": [
    "**3. Find the total sales per category.**"
   ]
  },
  {
   "cell_type": "code",
   "execution_count": 95,
   "id": "20e8d865-acdd-454c-8f36-2e92d5ab370d",
   "metadata": {
    "jupyter": {
     "source_hidden": true
    }
   },
   "outputs": [
    {
     "data": {
      "text/html": [
       "<div>\n",
       "<style scoped>\n",
       "    .dataframe tbody tr th:only-of-type {\n",
       "        vertical-align: middle;\n",
       "    }\n",
       "\n",
       "    .dataframe tbody tr th {\n",
       "        vertical-align: top;\n",
       "    }\n",
       "\n",
       "    .dataframe thead th {\n",
       "        text-align: right;\n",
       "    }\n",
       "</style>\n",
       "<table border=\"1\" class=\"dataframe\">\n",
       "  <thead>\n",
       "    <tr style=\"text-align: right;\">\n",
       "      <th></th>\n",
       "      <th>Category</th>\n",
       "      <th>Sales (R$)</th>\n",
       "    </tr>\n",
       "  </thead>\n",
       "  <tbody>\n",
       "    <tr>\n",
       "      <th>0</th>\n",
       "      <td>PERFUMERY</td>\n",
       "      <td>506,738.7</td>\n",
       "    </tr>\n",
       "    <tr>\n",
       "      <th>1</th>\n",
       "      <td>FURNITURE DECORATION</td>\n",
       "      <td>1,430,176.4</td>\n",
       "    </tr>\n",
       "    <tr>\n",
       "      <th>2</th>\n",
       "      <td>TELEPHONY</td>\n",
       "      <td>486,882.1</td>\n",
       "    </tr>\n",
       "    <tr>\n",
       "      <th>3</th>\n",
       "      <td>BED TABLE BATH</td>\n",
       "      <td>1,712,553.7</td>\n",
       "    </tr>\n",
       "    <tr>\n",
       "      <th>4</th>\n",
       "      <td>AUTOMOTIVE</td>\n",
       "      <td>852,294.3</td>\n",
       "    </tr>\n",
       "    <tr>\n",
       "      <th>...</th>\n",
       "      <td>...</td>\n",
       "      <td>...</td>\n",
       "    </tr>\n",
       "    <tr>\n",
       "      <th>69</th>\n",
       "      <td>CDS MUSIC DVDS</td>\n",
       "      <td>1,199.4</td>\n",
       "    </tr>\n",
       "    <tr>\n",
       "      <th>70</th>\n",
       "      <td>LA CUISINE</td>\n",
       "      <td>2,913.5</td>\n",
       "    </tr>\n",
       "    <tr>\n",
       "      <th>71</th>\n",
       "      <td>FASHION CHILDREN'S CLOTHING</td>\n",
       "      <td>785.7</td>\n",
       "    </tr>\n",
       "    <tr>\n",
       "      <th>72</th>\n",
       "      <td>PC GAMER</td>\n",
       "      <td>2,174.4</td>\n",
       "    </tr>\n",
       "    <tr>\n",
       "      <th>73</th>\n",
       "      <td>INSURANCE AND SERVICES</td>\n",
       "      <td>324.5</td>\n",
       "    </tr>\n",
       "  </tbody>\n",
       "</table>\n",
       "<p>74 rows × 2 columns</p>\n",
       "</div>"
      ],
      "text/plain": [
       "                       Category   Sales (R$)\n",
       "0                     PERFUMERY    506,738.7\n",
       "1          FURNITURE DECORATION  1,430,176.4\n",
       "2                     TELEPHONY    486,882.1\n",
       "3                BED TABLE BATH  1,712,553.7\n",
       "4                    AUTOMOTIVE    852,294.3\n",
       "..                          ...          ...\n",
       "69               CDS MUSIC DVDS      1,199.4\n",
       "70                   LA CUISINE      2,913.5\n",
       "71  FASHION CHILDREN'S CLOTHING        785.7\n",
       "72                     PC GAMER      2,174.4\n",
       "73       INSURANCE AND SERVICES        324.5\n",
       "\n",
       "[74 rows x 2 columns]"
      ]
     },
     "execution_count": 95,
     "metadata": {},
     "output_type": "execute_result"
    }
   ],
   "source": [
    "query = \"\"\"SELECT \n",
    "                upper(p.product_category),\n",
    "                FORMAT(ROUND(SUM(pay.payment_value), 1),1) AS 'Total Price'\n",
    "            FROM order_items oi\n",
    "            JOIN products p \n",
    "            ON oi.product_id = p.product_id\n",
    "            JOIN payments pay \n",
    "            ON oi.order_id = pay.order_id\n",
    "            GROUP BY p.product_category;\"\"\"\n",
    "\n",
    "cur.execute(query)\n",
    "\n",
    "data = cur.fetchall()\n",
    "\n",
    "df = pd.DataFrame(data, columns=['Category','Sales (R$)'])\n",
    "df"
   ]
  },
  {
   "cell_type": "markdown",
   "id": "2f61e1ee-9c4b-45b4-a4c2-5e73609d1f73",
   "metadata": {},
   "source": [
    "**4. Calculate the percentage of orders that were paid in installments.**"
   ]
  },
  {
   "cell_type": "code",
   "execution_count": 12,
   "id": "b291d2ad-ef73-4524-a5a6-6bc5a240e529",
   "metadata": {
    "jupyter": {
     "source_hidden": true
    }
   },
   "outputs": [
    {
     "data": {
      "text/plain": [
       "('The percentage per orders that were paid in installments is',\n",
       " Decimal('99.9981'))"
      ]
     },
     "execution_count": 12,
     "metadata": {},
     "output_type": "execute_result"
    }
   ],
   "source": [
    "query = \"\"\"select \n",
    "(select count(payment_installments) from payments where payment_installments >= 1)*100\n",
    "/ count(payment_installments) as 'porcentage payments installs' from payments;\"\"\"\n",
    "\n",
    "cur.execute(query)\n",
    "\n",
    "data = cur.fetchall()\n",
    "\n",
    "'The percentage per orders that were paid in installments is', data[0][0]"
   ]
  },
  {
   "cell_type": "markdown",
   "id": "3e8cb9cc-1bfd-41e9-9f35-6044b46677c4",
   "metadata": {},
   "source": [
    "**5. Count the number of customers from each state.**"
   ]
  },
  {
   "cell_type": "code",
   "execution_count": 14,
   "id": "0112846b-97c7-43b8-bf85-acf716dad3b7",
   "metadata": {
    "jupyter": {
     "source_hidden": true
    },
    "scrolled": true
   },
   "outputs": [
    {
     "data": {
      "text/plain": [
       "<function matplotlib.pyplot.show(close=None, block=None)>"
      ]
     },
     "execution_count": 14,
     "metadata": {},
     "output_type": "execute_result"
    },
    {
     "data": {
      "image/png": "[encoded data removed]",
      "text/plain": [
       "<Figure size 1000x500 with 1 Axes>"
      ]
     },
     "metadata": {},
     "output_type": "display_data"
    }
   ],
   "source": [
    "query = \"\"\"select\n",
    "                customer_state, \n",
    "                count(customer_id) as 'Total customers by state' \n",
    "           from customers \n",
    "           group by customer_state;\"\"\"\n",
    "cur.execute(query)\n",
    "\n",
    "data = cur.fetchall()\n",
    "\n",
    "df = pd.DataFrame(data, columns=['State','Total N°Customers'])\n",
    "df = df.sort_values(by= \"Total N°Customers\", ascending=False)\n",
    "\n",
    "plt.figure(figsize=(10,5))\n",
    "plt.bar(df['State'],df['Total N°Customers'])\n",
    "plt.xticks(rotation=90)\n",
    "plt.ylabel(ylabel= 'N° Customers')\n",
    "plt.xlabel(xlabel= 'States')\n",
    "plt.title('Count of Customers By State')\n",
    "plt.show"
   ]
  },
  {
   "cell_type": "markdown",
   "id": "6e20e9b6-bd15-4574-87d4-bd75b14c28ce",
   "metadata": {},
   "source": [
    "**6. Calculate the number of orders per month in 2018**"
   ]
  },
  {
   "cell_type": "code",
   "execution_count": 16,
   "id": "2177e1e9-f4ad-46a0-9a0b-cb2bc30c8719",
   "metadata": {
    "jupyter": {
     "source_hidden": true
    }
   },
   "outputs": [
    {
     "data": {
      "image/png": "[encoded data removed]",
      "text/plain": [
       "<Figure size 640x480 with 1 Axes>"
      ]
     },
     "metadata": {},
     "output_type": "display_data"
    }
   ],
   "source": [
    "query = \"\"\"select monthname(order_purchase_timestamp) months, count(order_id) from orders where year(order_purchase_timestamp) = 2018 group by months\"\"\"\n",
    "\n",
    "cur.execute(query)\n",
    "\n",
    "data = cur.fetchall()\n",
    "\n",
    "df = pd.DataFrame(data, columns=['Months','Orders'])\n",
    "o = ['January','February','March','April','May','June','July','August','September','October']\n",
    "\n",
    "ax = sns.barplot(x = df['Months'], y = df['Orders'], data = df, order= o, color= 'Red')\n",
    "plt.xticks(rotation=45)\n",
    "ax.bar_label(ax.containers[0])\n",
    "plt.title('Count of Orders per Month 2018')\n",
    "plt.show()"
   ]
  },
  {
   "cell_type": "markdown",
   "id": "2698f696-72d3-4ce3-bf85-875a164d3300",
   "metadata": {},
   "source": [
    "**7. Find the average number of products per order, grouped by customer city.**"
   ]
  },
  {
   "cell_type": "code",
   "execution_count": 18,
   "id": "b5f4554e-c9ee-4dc8-90b8-d32c4071fccd",
   "metadata": {
    "jupyter": {
     "source_hidden": true
    }
   },
   "outputs": [
    {
     "data": {
      "text/html": [
       "<div>\n",
       "<style scoped>\n",
       "    .dataframe tbody tr th:only-of-type {\n",
       "        vertical-align: middle;\n",
       "    }\n",
       "\n",
       "    .dataframe tbody tr th {\n",
       "        vertical-align: top;\n",
       "    }\n",
       "\n",
       "    .dataframe thead th {\n",
       "        text-align: right;\n",
       "    }\n",
       "</style>\n",
       "<table border=\"1\" class=\"dataframe\">\n",
       "  <thead>\n",
       "    <tr style=\"text-align: right;\">\n",
       "      <th></th>\n",
       "      <th>City</th>\n",
       "      <th>Avg Products/Order</th>\n",
       "    </tr>\n",
       "  </thead>\n",
       "  <tbody>\n",
       "    <tr>\n",
       "      <th>0</th>\n",
       "      <td>SAO PAULO</td>\n",
       "      <td>1.1562</td>\n",
       "    </tr>\n",
       "    <tr>\n",
       "      <th>1</th>\n",
       "      <td>SAO JOSE DOS CAMPOS</td>\n",
       "      <td>1.1385</td>\n",
       "    </tr>\n",
       "    <tr>\n",
       "      <th>2</th>\n",
       "      <td>PORTO ALEGRE</td>\n",
       "      <td>1.1749</td>\n",
       "    </tr>\n",
       "    <tr>\n",
       "      <th>3</th>\n",
       "      <td>INDAIAL</td>\n",
       "      <td>1.1154</td>\n",
       "    </tr>\n",
       "    <tr>\n",
       "      <th>4</th>\n",
       "      <td>TREZE TILIAS</td>\n",
       "      <td>1.2727</td>\n",
       "    </tr>\n",
       "    <tr>\n",
       "      <th>...</th>\n",
       "      <td>...</td>\n",
       "      <td>...</td>\n",
       "    </tr>\n",
       "    <tr>\n",
       "      <th>4105</th>\n",
       "      <td>JAPARATUBA</td>\n",
       "      <td>1.0000</td>\n",
       "    </tr>\n",
       "    <tr>\n",
       "      <th>4106</th>\n",
       "      <td>SEBASTIAO LEAL</td>\n",
       "      <td>1.0000</td>\n",
       "    </tr>\n",
       "    <tr>\n",
       "      <th>4107</th>\n",
       "      <td>BURITI</td>\n",
       "      <td>3.0000</td>\n",
       "    </tr>\n",
       "    <tr>\n",
       "      <th>4108</th>\n",
       "      <td>MORRO AGUDO DE GOIAS</td>\n",
       "      <td>1.0000</td>\n",
       "    </tr>\n",
       "    <tr>\n",
       "      <th>4109</th>\n",
       "      <td>PADRE PARAISO</td>\n",
       "      <td>1.0000</td>\n",
       "    </tr>\n",
       "  </tbody>\n",
       "</table>\n",
       "<p>4110 rows × 2 columns</p>\n",
       "</div>"
      ],
      "text/plain": [
       "                      City Avg Products/Order\n",
       "0                SAO PAULO             1.1562\n",
       "1      SAO JOSE DOS CAMPOS             1.1385\n",
       "2             PORTO ALEGRE             1.1749\n",
       "3                  INDAIAL             1.1154\n",
       "4             TREZE TILIAS             1.2727\n",
       "...                    ...                ...\n",
       "4105            JAPARATUBA             1.0000\n",
       "4106        SEBASTIAO LEAL             1.0000\n",
       "4107                BURITI             3.0000\n",
       "4108  MORRO AGUDO DE GOIAS             1.0000\n",
       "4109         PADRE PARAISO             1.0000\n",
       "\n",
       "[4110 rows x 2 columns]"
      ]
     },
     "execution_count": 18,
     "metadata": {},
     "output_type": "execute_result"
    }
   ],
   "source": [
    "query = \"\"\"with count_per_order as\n",
    "(SELECT o.order_id, o.customer_id, count(oi.order_id) as oc FROM orders o JOIN order_items oi ON o.order_id = oi.order_id group by o.order_id, o.customer_id)\n",
    "\n",
    "select upper(customers.customer_city), avg(count_per_order.oc)\n",
    "from customers join count_per_order on customers.customer_id = count_per_order.customer_id\n",
    "group by customers.customer_city;\"\"\" \n",
    "\n",
    "cur.execute(query)\n",
    "\n",
    "data = cur.fetchall()\n",
    "\n",
    "df = pd.DataFrame(data, columns=['City','Avg Products/Order'])\n",
    "df"
   ]
  },
  {
   "cell_type": "markdown",
   "id": "1df7098d-b72a-428a-850e-1a0fc194acce",
   "metadata": {},
   "source": [
    "**8. Calculate the percentage of total revenue contributed by each product category.**"
   ]
  },
  {
   "cell_type": "code",
   "execution_count": 93,
   "id": "08132294-8e73-4a37-bff2-c51abd425394",
   "metadata": {
    "jupyter": {
     "source_hidden": true
    }
   },
   "outputs": [
    {
     "data": {
      "text/html": [
       "<div>\n",
       "<style scoped>\n",
       "    .dataframe tbody tr th:only-of-type {\n",
       "        vertical-align: middle;\n",
       "    }\n",
       "\n",
       "    .dataframe tbody tr th {\n",
       "        vertical-align: top;\n",
       "    }\n",
       "\n",
       "    .dataframe thead th {\n",
       "        text-align: right;\n",
       "    }\n",
       "</style>\n",
       "<table border=\"1\" class=\"dataframe\">\n",
       "  <thead>\n",
       "    <tr style=\"text-align: right;\">\n",
       "      <th></th>\n",
       "      <th>Category</th>\n",
       "      <th>% Total</th>\n",
       "    </tr>\n",
       "  </thead>\n",
       "  <tbody>\n",
       "    <tr>\n",
       "      <th>0</th>\n",
       "      <td>PERFUMERY</td>\n",
       "      <td>3.17</td>\n",
       "    </tr>\n",
       "    <tr>\n",
       "      <th>1</th>\n",
       "      <td>FURNITURE DECORATION</td>\n",
       "      <td>8.93</td>\n",
       "    </tr>\n",
       "    <tr>\n",
       "      <th>2</th>\n",
       "      <td>TELEPHONY</td>\n",
       "      <td>3.04</td>\n",
       "    </tr>\n",
       "    <tr>\n",
       "      <th>3</th>\n",
       "      <td>BED TABLE BATH</td>\n",
       "      <td>10.70</td>\n",
       "    </tr>\n",
       "    <tr>\n",
       "      <th>4</th>\n",
       "      <td>AUTOMOTIVE</td>\n",
       "      <td>5.32</td>\n",
       "    </tr>\n",
       "    <tr>\n",
       "      <th>...</th>\n",
       "      <td>...</td>\n",
       "      <td>...</td>\n",
       "    </tr>\n",
       "    <tr>\n",
       "      <th>69</th>\n",
       "      <td>CDS MUSIC DVDS</td>\n",
       "      <td>0.01</td>\n",
       "    </tr>\n",
       "    <tr>\n",
       "      <th>70</th>\n",
       "      <td>LA CUISINE</td>\n",
       "      <td>0.02</td>\n",
       "    </tr>\n",
       "    <tr>\n",
       "      <th>71</th>\n",
       "      <td>FASHION CHILDREN'S CLOTHING</td>\n",
       "      <td>0.00</td>\n",
       "    </tr>\n",
       "    <tr>\n",
       "      <th>72</th>\n",
       "      <td>PC GAMER</td>\n",
       "      <td>0.01</td>\n",
       "    </tr>\n",
       "    <tr>\n",
       "      <th>73</th>\n",
       "      <td>INSURANCE AND SERVICES</td>\n",
       "      <td>0.00</td>\n",
       "    </tr>\n",
       "  </tbody>\n",
       "</table>\n",
       "<p>74 rows × 2 columns</p>\n",
       "</div>"
      ],
      "text/plain": [
       "                       Category  % Total\n",
       "0                     PERFUMERY     3.17\n",
       "1          FURNITURE DECORATION     8.93\n",
       "2                     TELEPHONY     3.04\n",
       "3                BED TABLE BATH    10.70\n",
       "4                    AUTOMOTIVE     5.32\n",
       "..                          ...      ...\n",
       "69               CDS MUSIC DVDS     0.01\n",
       "70                   LA CUISINE     0.02\n",
       "71  FASHION CHILDREN'S CLOTHING     0.00\n",
       "72                     PC GAMER     0.01\n",
       "73       INSURANCE AND SERVICES     0.00\n",
       "\n",
       "[74 rows x 2 columns]"
      ]
     },
     "execution_count": 93,
     "metadata": {},
     "output_type": "execute_result"
    }
   ],
   "source": [
    "query = \"\"\"SELECT \n",
    "    upper(p.product_category),\n",
    "    ROUND(SUM(pay.payment_value) * 100 / (SELECT sum(payment_value) from payments),2)  AS 'Porcentage Total'\n",
    "    FROM order_items oi\n",
    "    JOIN products p \n",
    "    ON oi.product_id = p.product_id\n",
    "    JOIN payments pay \n",
    "    ON oi.order_id = pay.order_id\n",
    "    GROUP BY p.product_category order by 'Porcentage Total' desc;\"\"\"\n",
    "cur.execute(query)\n",
    "\n",
    "data = cur.fetchall()\n",
    "\n",
    "df = pd.DataFrame(data, columns=['Category','% Total'])\n",
    "df"
   ]
  },
  {
   "cell_type": "markdown",
   "id": "9ed8692d-5738-4a5c-a534-e42cc12951f5",
   "metadata": {},
   "source": [
    "**9. Identify the correlation between product price and the number of times a product has been purchased.**"
   ]
  },
  {
   "cell_type": "code",
   "execution_count": 24,
   "id": "b7fd31de-194f-48ff-939a-0906ef79427f",
   "metadata": {
    "jupyter": {
     "source_hidden": true
    }
   },
   "outputs": [
    {
     "name": "stdout",
     "output_type": "stream",
     "text": [
      "The correlation between price and the number of times a product is: -0.10631514167157562\n"
     ]
    }
   ],
   "source": [
    "query = \"\"\"select \tupper(products.product_category),\n",
    "count(order_items.product_id),\n",
    "round(avg(order_items.price),2)\n",
    "from products \n",
    "JOIN order_items\n",
    "ON products.product_id = order_items.product_id\n",
    "group by products.product_category;\"\"\"\n",
    "\n",
    "cur.execute(query)\n",
    "\n",
    "data = cur.fetchall()\n",
    "\n",
    "df = pd.DataFrame(data, columns=['Category','Orders','Avg Price'])\n",
    "\n",
    "arr1 = df['Orders']\n",
    "arr2 = df['Avg Price']\n",
    "\n",
    "a = np.corrcoef([arr1,arr2])\n",
    "\n",
    "print(\"The correlation between price and the number of times a product is:\",a[0][1])"
   ]
  },
  {
   "cell_type": "markdown",
   "id": "97eed023-5adc-4022-9e7e-35a5717c8317",
   "metadata": {},
   "source": [
    "**10. Calculate the total revenue generated by each seller, and rank them by revenue.**"
   ]
  },
  {
   "cell_type": "code",
   "execution_count": 27,
   "id": "9de1729c-75fd-4f8a-8764-d75b351f9b6a",
   "metadata": {
    "jupyter": {
     "source_hidden": true
    }
   },
   "outputs": [
    {
     "data": {
      "image/png": "[encoded data removed]",
      "text/plain": [
       "<Figure size 640x480 with 1 Axes>"
      ]
     },
     "metadata": {},
     "output_type": "display_data"
    }
   ],
   "source": [
    "query = \"\"\"SELECT *, dense_rank() over(order by Revenue desc) as 'Rank' from (SELECT \n",
    "                    order_items.seller_id as 'Seller',\n",
    "                    round(sum(payments.payment_value),1) as Revenue\n",
    "                FROM\n",
    "                    payments\n",
    "                JOIN \n",
    "                \torder_items\n",
    "                ON\n",
    "                \tpayments.order_id = order_items.order_id\n",
    "                group by\n",
    "                \torder_items.seller_id) as a;\"\"\"\n",
    "cur.execute(query)\n",
    "\n",
    "data = cur.fetchall()\n",
    "\n",
    "df = pd.DataFrame(data, columns=['Seller','Revenue','Rank'])\n",
    "df = df.head(10) \n",
    "sns.barplot(x = 'Seller', y = 'Revenue', data= df)\n",
    "plt.xticks(rotation = 90)\n",
    "plt.title('Rank Revenue by Seller')\n",
    "plt.show()"
   ]
  },
  {
   "cell_type": "markdown",
   "id": "76613f8f-3544-4bf9-8b2c-66282599fc83",
   "metadata": {},
   "source": [
    "**11. Calculate the moving average of order values for each customer over their order history.**"
   ]
  },
  {
   "cell_type": "code",
   "execution_count": 67,
   "id": "e2d23151-ce1b-4d33-a2b9-e253d6ff989c",
   "metadata": {
    "jupyter": {
     "source_hidden": true
    }
   },
   "outputs": [
    {
     "data": {
      "text/html": [
       "<div>\n",
       "<style scoped>\n",
       "    .dataframe tbody tr th:only-of-type {\n",
       "        vertical-align: middle;\n",
       "    }\n",
       "\n",
       "    .dataframe tbody tr th {\n",
       "        vertical-align: top;\n",
       "    }\n",
       "\n",
       "    .dataframe thead th {\n",
       "        text-align: right;\n",
       "    }\n",
       "</style>\n",
       "<table border=\"1\" class=\"dataframe\">\n",
       "  <thead>\n",
       "    <tr style=\"text-align: right;\">\n",
       "      <th></th>\n",
       "      <th>Customer</th>\n",
       "      <th>Time Purchase</th>\n",
       "      <th>Payment (R$)</th>\n",
       "      <th>Mov Avg (R$)</th>\n",
       "    </tr>\n",
       "  </thead>\n",
       "  <tbody>\n",
       "    <tr>\n",
       "      <th>18</th>\n",
       "      <td>000e943451fc2788ca6ac98a682f2f49</td>\n",
       "      <td>2017-04-20</td>\n",
       "      <td>25.83</td>\n",
       "      <td>26.48</td>\n",
       "    </tr>\n",
       "    <tr>\n",
       "      <th>19</th>\n",
       "      <td>000e943451fc2788ca6ac98a682f2f49</td>\n",
       "      <td>2017-04-20</td>\n",
       "      <td>26.80</td>\n",
       "      <td>26.48</td>\n",
       "    </tr>\n",
       "    <tr>\n",
       "      <th>26</th>\n",
       "      <td>001051abfcfdbed9f87b4266213a5df1</td>\n",
       "      <td>2018-05-30</td>\n",
       "      <td>32.03</td>\n",
       "      <td>22.69</td>\n",
       "    </tr>\n",
       "    <tr>\n",
       "      <th>27</th>\n",
       "      <td>001051abfcfdbed9f87b4266213a5df1</td>\n",
       "      <td>2018-05-30</td>\n",
       "      <td>19.82</td>\n",
       "      <td>21.73</td>\n",
       "    </tr>\n",
       "    <tr>\n",
       "      <th>117</th>\n",
       "      <td>004937d0f9d6ce15c2830c00c2f482e5</td>\n",
       "      <td>2018-01-27</td>\n",
       "      <td>6.96</td>\n",
       "      <td>35.46</td>\n",
       "    </tr>\n",
       "    <tr>\n",
       "      <th>...</th>\n",
       "      <td>...</td>\n",
       "      <td>...</td>\n",
       "      <td>...</td>\n",
       "      <td>...</td>\n",
       "    </tr>\n",
       "    <tr>\n",
       "      <th>103792</th>\n",
       "      <td>ffbf82fe167e7156e06fc1778d6b1cea</td>\n",
       "      <td>2017-08-05</td>\n",
       "      <td>89.46</td>\n",
       "      <td>39.41</td>\n",
       "    </tr>\n",
       "    <tr>\n",
       "      <th>103862</th>\n",
       "      <td>fff3a5c6d542d52b05f7e4518adf996e</td>\n",
       "      <td>2018-02-18</td>\n",
       "      <td>5.33</td>\n",
       "      <td>24.98</td>\n",
       "    </tr>\n",
       "    <tr>\n",
       "      <th>103863</th>\n",
       "      <td>fff3a5c6d542d52b05f7e4518adf996e</td>\n",
       "      <td>2018-02-18</td>\n",
       "      <td>33.27</td>\n",
       "      <td>27.74</td>\n",
       "    </tr>\n",
       "    <tr>\n",
       "      <th>103880</th>\n",
       "      <td>fffecc9f79fd8c764f843e9951b11341</td>\n",
       "      <td>2018-03-29</td>\n",
       "      <td>71.23</td>\n",
       "      <td>35.94</td>\n",
       "    </tr>\n",
       "    <tr>\n",
       "      <th>103881</th>\n",
       "      <td>fffecc9f79fd8c764f843e9951b11341</td>\n",
       "      <td>2018-03-29</td>\n",
       "      <td>9.49</td>\n",
       "      <td>27.12</td>\n",
       "    </tr>\n",
       "  </tbody>\n",
       "</table>\n",
       "<p>4156 rows × 4 columns</p>\n",
       "</div>"
      ],
      "text/plain": [
       "                                Customer Time Purchase  Payment (R$)  \\\n",
       "18      000e943451fc2788ca6ac98a682f2f49    2017-04-20         25.83   \n",
       "19      000e943451fc2788ca6ac98a682f2f49    2017-04-20         26.80   \n",
       "26      001051abfcfdbed9f87b4266213a5df1    2018-05-30         32.03   \n",
       "27      001051abfcfdbed9f87b4266213a5df1    2018-05-30         19.82   \n",
       "117     004937d0f9d6ce15c2830c00c2f482e5    2018-01-27          6.96   \n",
       "...                                  ...           ...           ...   \n",
       "103792  ffbf82fe167e7156e06fc1778d6b1cea    2017-08-05         89.46   \n",
       "103862  fff3a5c6d542d52b05f7e4518adf996e    2018-02-18          5.33   \n",
       "103863  fff3a5c6d542d52b05f7e4518adf996e    2018-02-18         33.27   \n",
       "103880  fffecc9f79fd8c764f843e9951b11341    2018-03-29         71.23   \n",
       "103881  fffecc9f79fd8c764f843e9951b11341    2018-03-29          9.49   \n",
       "\n",
       "        Mov Avg (R$)  \n",
       "18             26.48  \n",
       "19             26.48  \n",
       "26             22.69  \n",
       "27             21.73  \n",
       "117            35.46  \n",
       "...              ...  \n",
       "103792         39.41  \n",
       "103862         24.98  \n",
       "103863         27.74  \n",
       "103880         35.94  \n",
       "103881         27.12  \n",
       "\n",
       "[4156 rows x 4 columns]"
      ]
     },
     "execution_count": 67,
     "metadata": {},
     "output_type": "execute_result"
    }
   ],
   "source": [
    "query = \"\"\"SELECT customer_id, date(order_purchase_timestamp), payment, \n",
    "\t   round(avg(payment) over(partition by customer_id order by order_purchase_timestamp\n",
    "       rows between 2 preceding and current row),2) as mov_avg\n",
    "       from(SELECT \n",
    "\t\t\t\torders.customer_id,\n",
    "\t\t\t\torders.order_purchase_timestamp,\n",
    "\t\t\t\tpayments.payment_value as payment\n",
    "\t\t\tFROM\n",
    "\t\t\t\torders\n",
    "\t\t\tJOIN\n",
    "\t\t\t\tpayments \n",
    "\t\t\tON \n",
    "\t\t\t\torders.order_id = payments.order_id) as a;\"\"\"\n",
    "cur.execute(query)\n",
    "\n",
    "data = cur.fetchall()\n",
    "\n",
    "df = pd.DataFrame(data, columns=['Customer','Time Purchase','Payment (R$)','Mov Avg (R$)'])\n",
    "filtered_df = df[df['Payment (R$)'] != df['Mov Avg (R$)']]\n",
    "filtered_df"
   ]
  },
  {
   "cell_type": "markdown",
   "id": "2a403a69-3ea5-4091-9a45-28549d908064",
   "metadata": {},
   "source": [
    "**12. Calculate the cumulative sales per month for each year.**"
   ]
  },
  {
   "cell_type": "code",
   "execution_count": 87,
   "id": "1f165109-7e98-4fe1-849d-722201c266bf",
   "metadata": {
    "jupyter": {
     "source_hidden": true
    },
    "scrolled": true
   },
   "outputs": [
    {
     "data": {
      "text/html": [
       "<div>\n",
       "<style scoped>\n",
       "    .dataframe tbody tr th:only-of-type {\n",
       "        vertical-align: middle;\n",
       "    }\n",
       "\n",
       "    .dataframe tbody tr th {\n",
       "        vertical-align: top;\n",
       "    }\n",
       "\n",
       "    .dataframe thead th {\n",
       "        text-align: right;\n",
       "    }\n",
       "</style>\n",
       "<table border=\"1\" class=\"dataframe\">\n",
       "  <thead>\n",
       "    <tr style=\"text-align: right;\">\n",
       "      <th></th>\n",
       "      <th>Years</th>\n",
       "      <th>Months</th>\n",
       "      <th>Payment (R$)</th>\n",
       "      <th>Cumulative Sales (R$)</th>\n",
       "    </tr>\n",
       "  </thead>\n",
       "  <tbody>\n",
       "    <tr>\n",
       "      <th>0</th>\n",
       "      <td>2016</td>\n",
       "      <td>9</td>\n",
       "      <td>252.24</td>\n",
       "      <td>252.0</td>\n",
       "    </tr>\n",
       "    <tr>\n",
       "      <th>1</th>\n",
       "      <td>2016</td>\n",
       "      <td>10</td>\n",
       "      <td>59,090.48</td>\n",
       "      <td>59,343.0</td>\n",
       "    </tr>\n",
       "    <tr>\n",
       "      <th>2</th>\n",
       "      <td>2016</td>\n",
       "      <td>12</td>\n",
       "      <td>19.62</td>\n",
       "      <td>59,362.0</td>\n",
       "    </tr>\n",
       "    <tr>\n",
       "      <th>3</th>\n",
       "      <td>2017</td>\n",
       "      <td>1</td>\n",
       "      <td>138,488.04</td>\n",
       "      <td>197,850.0</td>\n",
       "    </tr>\n",
       "    <tr>\n",
       "      <th>4</th>\n",
       "      <td>2017</td>\n",
       "      <td>2</td>\n",
       "      <td>291,908.01</td>\n",
       "      <td>489,758.0</td>\n",
       "    </tr>\n",
       "    <tr>\n",
       "      <th>5</th>\n",
       "      <td>2017</td>\n",
       "      <td>3</td>\n",
       "      <td>449,863.60</td>\n",
       "      <td>939,622.0</td>\n",
       "    </tr>\n",
       "    <tr>\n",
       "      <th>6</th>\n",
       "      <td>2017</td>\n",
       "      <td>4</td>\n",
       "      <td>417,788.03</td>\n",
       "      <td>1,357,410.0</td>\n",
       "    </tr>\n",
       "    <tr>\n",
       "      <th>7</th>\n",
       "      <td>2017</td>\n",
       "      <td>5</td>\n",
       "      <td>592,918.82</td>\n",
       "      <td>1,950,329.0</td>\n",
       "    </tr>\n",
       "    <tr>\n",
       "      <th>8</th>\n",
       "      <td>2017</td>\n",
       "      <td>6</td>\n",
       "      <td>511,276.38</td>\n",
       "      <td>2,461,605.0</td>\n",
       "    </tr>\n",
       "    <tr>\n",
       "      <th>9</th>\n",
       "      <td>2017</td>\n",
       "      <td>7</td>\n",
       "      <td>592,382.92</td>\n",
       "      <td>3,053,988.0</td>\n",
       "    </tr>\n",
       "    <tr>\n",
       "      <th>10</th>\n",
       "      <td>2017</td>\n",
       "      <td>8</td>\n",
       "      <td>674,396.32</td>\n",
       "      <td>3,728,384.0</td>\n",
       "    </tr>\n",
       "    <tr>\n",
       "      <th>11</th>\n",
       "      <td>2017</td>\n",
       "      <td>9</td>\n",
       "      <td>727,762.45</td>\n",
       "      <td>4,456,147.0</td>\n",
       "    </tr>\n",
       "    <tr>\n",
       "      <th>12</th>\n",
       "      <td>2017</td>\n",
       "      <td>10</td>\n",
       "      <td>779,677.88</td>\n",
       "      <td>5,235,825.0</td>\n",
       "    </tr>\n",
       "    <tr>\n",
       "      <th>13</th>\n",
       "      <td>2017</td>\n",
       "      <td>11</td>\n",
       "      <td>1,194,882.80</td>\n",
       "      <td>6,430,708.0</td>\n",
       "    </tr>\n",
       "    <tr>\n",
       "      <th>14</th>\n",
       "      <td>2017</td>\n",
       "      <td>12</td>\n",
       "      <td>878,401.48</td>\n",
       "      <td>7,309,109.0</td>\n",
       "    </tr>\n",
       "    <tr>\n",
       "      <th>15</th>\n",
       "      <td>2018</td>\n",
       "      <td>1</td>\n",
       "      <td>1,115,004.18</td>\n",
       "      <td>8,424,113.0</td>\n",
       "    </tr>\n",
       "    <tr>\n",
       "      <th>16</th>\n",
       "      <td>2018</td>\n",
       "      <td>2</td>\n",
       "      <td>992,463.34</td>\n",
       "      <td>9,416,577.0</td>\n",
       "    </tr>\n",
       "    <tr>\n",
       "      <th>17</th>\n",
       "      <td>2018</td>\n",
       "      <td>3</td>\n",
       "      <td>1,159,652.12</td>\n",
       "      <td>10,576,229.0</td>\n",
       "    </tr>\n",
       "    <tr>\n",
       "      <th>18</th>\n",
       "      <td>2018</td>\n",
       "      <td>4</td>\n",
       "      <td>1,160,785.48</td>\n",
       "      <td>11,737,014.0</td>\n",
       "    </tr>\n",
       "    <tr>\n",
       "      <th>19</th>\n",
       "      <td>2018</td>\n",
       "      <td>5</td>\n",
       "      <td>1,153,982.15</td>\n",
       "      <td>12,890,996.0</td>\n",
       "    </tr>\n",
       "    <tr>\n",
       "      <th>20</th>\n",
       "      <td>2018</td>\n",
       "      <td>6</td>\n",
       "      <td>1,023,880.50</td>\n",
       "      <td>13,914,877.0</td>\n",
       "    </tr>\n",
       "    <tr>\n",
       "      <th>21</th>\n",
       "      <td>2018</td>\n",
       "      <td>7</td>\n",
       "      <td>1,066,540.75</td>\n",
       "      <td>14,981,418.0</td>\n",
       "    </tr>\n",
       "    <tr>\n",
       "      <th>22</th>\n",
       "      <td>2018</td>\n",
       "      <td>8</td>\n",
       "      <td>1,022,425.32</td>\n",
       "      <td>16,003,843.0</td>\n",
       "    </tr>\n",
       "    <tr>\n",
       "      <th>23</th>\n",
       "      <td>2018</td>\n",
       "      <td>9</td>\n",
       "      <td>4,439.54</td>\n",
       "      <td>16,008,282.0</td>\n",
       "    </tr>\n",
       "    <tr>\n",
       "      <th>24</th>\n",
       "      <td>2018</td>\n",
       "      <td>10</td>\n",
       "      <td>589.67</td>\n",
       "      <td>16,008,872.0</td>\n",
       "    </tr>\n",
       "  </tbody>\n",
       "</table>\n",
       "</div>"
      ],
      "text/plain": [
       "    Years  Months  Payment (R$) Cumulative Sales (R$)\n",
       "0    2016       9        252.24                 252.0\n",
       "1    2016      10     59,090.48              59,343.0\n",
       "2    2016      12         19.62              59,362.0\n",
       "3    2017       1    138,488.04             197,850.0\n",
       "4    2017       2    291,908.01             489,758.0\n",
       "5    2017       3    449,863.60             939,622.0\n",
       "6    2017       4    417,788.03           1,357,410.0\n",
       "7    2017       5    592,918.82           1,950,329.0\n",
       "8    2017       6    511,276.38           2,461,605.0\n",
       "9    2017       7    592,382.92           3,053,988.0\n",
       "10   2017       8    674,396.32           3,728,384.0\n",
       "11   2017       9    727,762.45           4,456,147.0\n",
       "12   2017      10    779,677.88           5,235,825.0\n",
       "13   2017      11  1,194,882.80           6,430,708.0\n",
       "14   2017      12    878,401.48           7,309,109.0\n",
       "15   2018       1  1,115,004.18           8,424,113.0\n",
       "16   2018       2    992,463.34           9,416,577.0\n",
       "17   2018       3  1,159,652.12          10,576,229.0\n",
       "18   2018       4  1,160,785.48          11,737,014.0\n",
       "19   2018       5  1,153,982.15          12,890,996.0\n",
       "20   2018       6  1,023,880.50          13,914,877.0\n",
       "21   2018       7  1,066,540.75          14,981,418.0\n",
       "22   2018       8  1,022,425.32          16,003,843.0\n",
       "23   2018       9      4,439.54          16,008,282.0\n",
       "24   2018      10        589.67          16,008,872.0"
      ]
     },
     "execution_count": 87,
     "metadata": {},
     "output_type": "execute_result"
    }
   ],
   "source": [
    "query = \"\"\"SELECT years, months,FORMAT(payment,2), FORMAT((ROUND(sum(Payment)\n",
    "OVER (ORDER BY years, months))),1) as 'Cumulative Sales' from\n",
    "(SELECT \n",
    "    YEAR(orders.order_purchase_timestamp) AS years,\n",
    "    MONTH(orders.order_purchase_timestamp) AS months,\n",
    "    ROUND(SUM(payments.payment_value),2) as Payment\n",
    "FROM\n",
    "    orders\n",
    "        JOIN\n",
    "    payments ON orders.order_id = payments.order_id\n",
    "GROUP BY years, months\n",
    "ORDER BY years, months) AS a;\"\"\"\n",
    "\n",
    "cur.execute(query)\n",
    "\n",
    "data = cur.fetchall()\n",
    "\n",
    "df = pd.DataFrame(data, columns=['Years','Months','Payment (R$)','Cumulative Sales (R$)'])\n",
    "df"
   ]
  },
  {
   "cell_type": "markdown",
   "id": "e1385de4-3789-4dce-b60e-c896027f3018",
   "metadata": {},
   "source": [
    "**13. Calculate the year-over-year growth rate of total sales.**"
   ]
  },
  {
   "cell_type": "code",
   "execution_count": 34,
   "id": "85c6191d-e4eb-4db2-928e-f6ceb179180d",
   "metadata": {
    "jupyter": {
     "source_hidden": true
    }
   },
   "outputs": [
    {
     "name": "stdout",
     "output_type": "stream",
     "text": [
      "The interannual growth of 2017 compared to 2016 is: %12113\n",
      "The interannual growth of 2018 compared to 2017 is: %20\n"
     ]
    }
   ],
   "source": [
    "query = \"\"\"SELECT \n",
    "    YEAR(orders.order_purchase_timestamp) AS years,\n",
    "    ROUND(SUM(payments.payment_value),2) as Payment\n",
    "FROM\n",
    "    orders\n",
    "        JOIN\n",
    "    payments ON orders.order_id = payments.order_id\n",
    "GROUP BY years\n",
    "ORDER BY years;\"\"\"\n",
    "\n",
    "cur.execute(query)\n",
    "\n",
    "data = cur.fetchall()\n",
    "\n",
    "y2016 = data[0][1]\n",
    "y2017 = data[1][1]\n",
    "y2018 = data[2][1]\n",
    "\n",
    "growth_year_2016_2017 = round(((y2017-y2016)/y2016)*100)\n",
    "\n",
    "growth_year_2017_2018 = round(((y2018-y2017)/y2017)*100)\n",
    "\n",
    "print(f\"The interannual growth of 2017 compared to 2016 is: %{growth_year_2016_2017}\\nThe interannual growth of 2018 compared to 2017 is: %{growth_year_2017_2018}\")"
   ]
  },
  {
   "cell_type": "markdown",
   "id": "2b7901dd-c2ca-4cac-86bd-adc0b9804680",
   "metadata": {},
   "source": [
    "**14. Calculate the retention rate of customers, defined as the percentage of customers who make another purchase within 6 months of their first purchase.**"
   ]
  },
  {
   "cell_type": "code",
   "execution_count": 45,
   "id": "504c0c5a-4ee4-486f-ab46-f02f0f7ca3ab",
   "metadata": {
    "jupyter": {
     "source_hidden": true
    }
   },
   "outputs": [
    {
     "name": "stdout",
     "output_type": "stream",
     "text": [
      "None of the regular customers repeat themselves, which is why the query in the database returns \"none\".\n"
     ]
    }
   ],
   "source": [
    "query = \"\"\"with a as (SELECT customers.customer_id,\n",
    "\t   min(orders.order_purchase_timestamp) first_order\n",
    "       from customers join orders\n",
    "       on customers.customer_id = orders.customer_id\n",
    "       group by customers.customer_id),\n",
    "\n",
    "b as (select a.customer_id, count(distinct orders.order_purchase_timestamp) next_order\t\n",
    "from a join orders\n",
    "on orders.customer_id = a.customer_id\n",
    "and orders.order_purchase_timestamp > first_order\n",
    "and orders.order_purchase_timestamp < date_add(first_order, interval 6 month)\n",
    "group by a.customer_id)\n",
    "\n",
    "select 100 * (count(distinct a.customer_id) / count(distinct b.customer_id))\n",
    "from a left join b\n",
    "on a.customer_id = b.customer_id\"\"\"\n",
    "\n",
    "cur.execute(query)\n",
    "\n",
    "data = cur.fetchall()\n",
    "\n",
    "print('None of the regular customers repeat themselves, which is why the query in the database returns \"none\".')"
   ]
  },
  {
   "cell_type": "markdown",
   "id": "e82a82d2-8a1e-48f2-98e5-8ed1b3b2d3dc",
   "metadata": {},
   "source": [
    "**15. Identify the top 3 customers who spent the most money in each year.**"
   ]
  },
  {
   "cell_type": "code",
   "execution_count": 107,
   "id": "dc4682a9-677a-47ae-b1ee-fabd84480057",
   "metadata": {},
   "outputs": [
    {
     "data": {
      "text/html": [
       "<div>\n",
       "<style scoped>\n",
       "    .dataframe tbody tr th:only-of-type {\n",
       "        vertical-align: middle;\n",
       "    }\n",
       "\n",
       "    .dataframe tbody tr th {\n",
       "        vertical-align: top;\n",
       "    }\n",
       "\n",
       "    .dataframe thead th {\n",
       "        text-align: right;\n",
       "    }\n",
       "</style>\n",
       "<table border=\"1\" class=\"dataframe\">\n",
       "  <thead>\n",
       "    <tr style=\"text-align: right;\">\n",
       "      <th></th>\n",
       "      <th>Years</th>\n",
       "      <th>Customer</th>\n",
       "      <th>Payment (R$)</th>\n",
       "      <th>Rank</th>\n",
       "    </tr>\n",
       "  </thead>\n",
       "  <tbody>\n",
       "    <tr>\n",
       "      <th>0</th>\n",
       "      <td>2016</td>\n",
       "      <td>a9dc96b027d1252bbac0a9b72d837fc6</td>\n",
       "      <td>1,424.0</td>\n",
       "      <td>1</td>\n",
       "    </tr>\n",
       "    <tr>\n",
       "      <th>1</th>\n",
       "      <td>2016</td>\n",
       "      <td>1d34ed25963d5aae4cf3d7f3a4cda173</td>\n",
       "      <td>1,401.0</td>\n",
       "      <td>2</td>\n",
       "    </tr>\n",
       "    <tr>\n",
       "      <th>2</th>\n",
       "      <td>2016</td>\n",
       "      <td>4a06381959b6670756de02e07b83815f</td>\n",
       "      <td>1,228.0</td>\n",
       "      <td>3</td>\n",
       "    </tr>\n",
       "    <tr>\n",
       "      <th>3</th>\n",
       "      <td>2017</td>\n",
       "      <td>1617b1357756262bfa56ab541c47bc16</td>\n",
       "      <td>13,664.0</td>\n",
       "      <td>1</td>\n",
       "    </tr>\n",
       "    <tr>\n",
       "      <th>4</th>\n",
       "      <td>2017</td>\n",
       "      <td>c6e2731c5b391845f6800c97401a43a9</td>\n",
       "      <td>6,929.0</td>\n",
       "      <td>2</td>\n",
       "    </tr>\n",
       "    <tr>\n",
       "      <th>5</th>\n",
       "      <td>2017</td>\n",
       "      <td>3fd6777bbce08a352fddd04e4a7cc8f6</td>\n",
       "      <td>6,727.0</td>\n",
       "      <td>3</td>\n",
       "    </tr>\n",
       "    <tr>\n",
       "      <th>6</th>\n",
       "      <td>2018</td>\n",
       "      <td>ec5b2ba62e574342386871631fafd3fc</td>\n",
       "      <td>7,275.0</td>\n",
       "      <td>1</td>\n",
       "    </tr>\n",
       "    <tr>\n",
       "      <th>7</th>\n",
       "      <td>2018</td>\n",
       "      <td>f48d464a0baaea338cb25f816991ab1f</td>\n",
       "      <td>6,922.0</td>\n",
       "      <td>2</td>\n",
       "    </tr>\n",
       "    <tr>\n",
       "      <th>8</th>\n",
       "      <td>2018</td>\n",
       "      <td>e0a2412720e9ea4f26c1ac985f6a7358</td>\n",
       "      <td>4,809.0</td>\n",
       "      <td>3</td>\n",
       "    </tr>\n",
       "  </tbody>\n",
       "</table>\n",
       "</div>"
      ],
      "text/plain": [
       "   Years                          Customer Payment (R$)  Rank\n",
       "0   2016  a9dc96b027d1252bbac0a9b72d837fc6      1,424.0     1\n",
       "1   2016  1d34ed25963d5aae4cf3d7f3a4cda173      1,401.0     2\n",
       "2   2016  4a06381959b6670756de02e07b83815f      1,228.0     3\n",
       "3   2017  1617b1357756262bfa56ab541c47bc16     13,664.0     1\n",
       "4   2017  c6e2731c5b391845f6800c97401a43a9      6,929.0     2\n",
       "5   2017  3fd6777bbce08a352fddd04e4a7cc8f6      6,727.0     3\n",
       "6   2018  ec5b2ba62e574342386871631fafd3fc      7,275.0     1\n",
       "7   2018  f48d464a0baaea338cb25f816991ab1f      6,922.0     2\n",
       "8   2018  e0a2412720e9ea4f26c1ac985f6a7358      4,809.0     3"
      ]
     },
     "execution_count": 107,
     "metadata": {},
     "output_type": "execute_result"
    }
   ],
   "source": [
    "query = \"\"\"select years, customer_id, FORMAT(round(payment),1), d_rank\n",
    "from (select year(orders.order_purchase_timestamp) years,\n",
    "\t   orders.customer_id,\n",
    "       sum(payments.payment_value) payment,\n",
    "       dense_rank() over(partition by year(orders.order_purchase_timestamp) order by sum(payments.payment_value) desc) d_rank\n",
    "\tfrom\n",
    "\t\torders\n",
    "\tjoin\n",
    "\t\tpayments\n",
    "\ton orders.order_id = payments.order_id\n",
    "\tgroup by year(orders.order_purchase_timestamp),orders.customer_id) as a\n",
    "where d_rank <= 3;\"\"\"\n",
    "\n",
    "cur.execute(query)\n",
    "\n",
    "data = cur.fetchall()\n",
    "\n",
    "df = pd.DataFrame(data, columns=['Years','Customer','Payment (R$)','Rank'])\n",
    "df"
   ]
  },
  {
   "cell_type": "code",
   "execution_count": null,
   "id": "7cee2412-052c-4464-b748-77217899a453",
   "metadata": {},
   "outputs": [],
   "source": []
  },
  {
   "cell_type": "code",
   "execution_count": null,
   "id": "1782d475-8c3a-429b-865f-4607b40a1c78",
   "metadata": {},
   "outputs": [],
   "source": []
  }
 ],
 "metadata": {
  "kernelspec": {
   "display_name": "Python 3 (ipykernel)",
   "language": "python",
   "name": "python3"
  },
  "language_info": {
   "codemirror_mode": {
    "name": "ipython",
    "version": 3
   },
   "file_extension": ".py",
   "mimetype": "text/x-python",
   "name": "python",
   "nbconvert_exporter": "python",
   "pygments_lexer": "ipython3",
   "version": "3.12.7"
  }
 },
 "nbformat": 4,
 "nbformat_minor": 5
}
